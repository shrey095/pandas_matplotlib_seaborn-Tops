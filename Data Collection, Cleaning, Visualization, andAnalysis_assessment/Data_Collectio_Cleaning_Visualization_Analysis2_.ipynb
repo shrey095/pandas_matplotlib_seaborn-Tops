{
 "cells": [
  {
   "cell_type": "markdown",
   "id": "9cda1210-f1c8-4284-8f08-b21642927ea3",
   "metadata": {},
   "source": [
    "## numpy"
   ]
  },
  {
   "cell_type": "code",
   "execution_count": 22,
   "id": "e8dc6d34-f25f-4bc8-893c-89700d6eac3d",
   "metadata": {},
   "outputs": [],
   "source": [
    "import pandas as pd\n",
    "import numpy as np\n",
    "import matplotlib.pyplot as plt\n",
    "import seaborn as sns"
   ]
  },
  {
   "cell_type": "markdown",
   "id": "082e67ce-b187-4dac-bda6-da3b358860c2",
   "metadata": {},
   "source": [
    "# Q1) Convert a 1D array to a 2D array with 2 rows\n"
   ]
  },
  {
   "cell_type": "code",
   "execution_count": 2,
   "id": "7db679e5-08f5-40b8-b6f6-5da1c095301d",
   "metadata": {},
   "outputs": [
    {
     "name": "stdout",
     "output_type": "stream",
     "text": [
      "1D array\n",
      "[1 2 3 4 5 6 7 8 9]\n",
      "\n",
      "2D array\n",
      "[[1 2 3]\n",
      " [4 5 6]\n",
      " [7 8 9]]\n"
     ]
    }
   ],
   "source": [
    "array1 = np.arange(1,10)\n",
    "print(\"1D array\")\n",
    "print(array1)\n",
    "print()\n",
    "array2= array1.reshape(3,3)\n",
    "print(\"2D array\")\n",
    "print(array2)"
   ]
  },
  {
   "cell_type": "markdown",
   "id": "65c076cf-6312-4565-9580-5ac73bcaaa25",
   "metadata": {},
   "source": [
    "# Q2) Get the common items between a and b\n",
    "# Input:\n",
    "# a = np.array([1,2,3,2,3,4,3,4,5,6])\n",
    "# b = np.array([7,2,10,2,7,4,9,4,9,8]) "
   ]
  },
  {
   "cell_type": "code",
   "execution_count": 3,
   "id": "bda073d8-3529-479a-9b87-a6b43a120a54",
   "metadata": {},
   "outputs": [
    {
     "data": {
      "text/plain": [
       "array([2, 4])"
      ]
     },
     "execution_count": 3,
     "metadata": {},
     "output_type": "execute_result"
    }
   ],
   "source": [
    "a = np.array([1,2,3,2,3,4,3,4,5,6])\n",
    "b = np.array([7,2,10,2,7,4,9,4,9,8])\n",
    "np.intersect1d(a,b)"
   ]
  },
  {
   "cell_type": "markdown",
   "id": "900a5ca1-c0f6-4c20-97c5-b63f2032737e",
   "metadata": {},
   "source": [
    "# Q3) Get all items between 5 and 10 from a.\n",
    "# Input:\n",
    "# a = np.array([2, 6, 1, 9, 10, 3, 27]) \n"
   ]
  },
  {
   "cell_type": "code",
   "execution_count": 4,
   "id": "a1be26b4-78cc-4f3e-9a52-0b40a12e2be0",
   "metadata": {},
   "outputs": [
    {
     "data": {
      "text/plain": [
       "array([ 6,  9, 10])"
      ]
     },
     "execution_count": 4,
     "metadata": {},
     "output_type": "execute_result"
    }
   ],
   "source": [
    "a = np.array([2, 6, 1, 9, 10, 3, 27])\n",
    "a[(a>5) & (a<=10)]"
   ]
  },
  {
   "cell_type": "markdown",
   "id": "d03c3742-66cc-412c-9577-e8e4634e7db7",
   "metadata": {},
   "source": [
    "# Q4) Limit the number of items printed in python NumPy array a to a maximum of 6 elements.\n",
    "# Input:\n",
    "# array([ 0, 1, 2, 3, 4, 5, 6, 7, 8, 9, 10, 11, 12, 13, 14]) "
   ]
  },
  {
   "cell_type": "code",
   "execution_count": 5,
   "id": "83bcecee-98a5-442b-a4b4-b3e43556ab4b",
   "metadata": {},
   "outputs": [
    {
     "data": {
      "text/plain": [
       "array([0, 1, 2, 3, 4, 5])"
      ]
     },
     "execution_count": 5,
     "metadata": {},
     "output_type": "execute_result"
    }
   ],
   "source": [
    "np.arange(6)"
   ]
  },
  {
   "cell_type": "markdown",
   "id": "9b9d07c1-b8e8-4f20-ab07-b3902b6efc60",
   "metadata": {},
   "source": [
    "# PANDAS"
   ]
  },
  {
   "cell_type": "markdown",
   "id": "1df56b03-4139-4355-b17c-23590472be1d",
   "metadata": {},
   "source": [
    "## Q1)Compute the minimum, 25th percentile, median, 75th, and maximum of ser. "
   ]
  },
  {
   "cell_type": "code",
   "execution_count": 6,
   "id": "936691fb-3ebc-4345-ad6c-56ac421bcd2a",
   "metadata": {},
   "outputs": [
    {
     "data": {
      "text/plain": [
       "array([ 1.25117263,  7.70986507, 10.92259345, 13.36360403, 18.0949083 ])"
      ]
     },
     "execution_count": 6,
     "metadata": {},
     "output_type": "execute_result"
    }
   ],
   "source": [
    "s = np.random.RandomState(100)\n",
    "ser = pd.Series(s.normal(10, 5, 25))\n",
    "ser.describe()\n",
    "np.percentile(ser, q = [0, 25, 50, 75, 100])"
   ]
  },
  {
   "cell_type": "markdown",
   "id": "4b9dc0da-33e2-46b4-9654-e9f240f55871",
   "metadata": {},
   "source": [
    "## Q2). Creating A Pandas Data Frame and Using Sample Data Sets"
   ]
  },
  {
   "cell_type": "code",
   "execution_count": 7,
   "id": "5d9e4cf6-f5a0-440f-8f31-9f34370de80c",
   "metadata": {},
   "outputs": [
    {
     "data": {
      "text/html": [
       "<div>\n",
       "<style scoped>\n",
       "    .dataframe tbody tr th:only-of-type {\n",
       "        vertical-align: middle;\n",
       "    }\n",
       "\n",
       "    .dataframe tbody tr th {\n",
       "        vertical-align: top;\n",
       "    }\n",
       "\n",
       "    .dataframe thead th {\n",
       "        text-align: right;\n",
       "    }\n",
       "</style>\n",
       "<table border=\"1\" class=\"dataframe\">\n",
       "  <thead>\n",
       "    <tr style=\"text-align: right;\">\n",
       "      <th></th>\n",
       "      <th>maths</th>\n",
       "      <th>eng</th>\n",
       "      <th>ss</th>\n",
       "      <th>science</th>\n",
       "      <th>hindi</th>\n",
       "    </tr>\n",
       "  </thead>\n",
       "  <tbody>\n",
       "    <tr>\n",
       "      <th>rohan</th>\n",
       "      <td>100</td>\n",
       "      <td>80</td>\n",
       "      <td>75</td>\n",
       "      <td>60</td>\n",
       "      <td>80</td>\n",
       "    </tr>\n",
       "    <tr>\n",
       "      <th>shrey</th>\n",
       "      <td>90</td>\n",
       "      <td>70</td>\n",
       "      <td>80</td>\n",
       "      <td>90</td>\n",
       "      <td>40</td>\n",
       "    </tr>\n",
       "    <tr>\n",
       "      <th>kavish</th>\n",
       "      <td>80</td>\n",
       "      <td>70</td>\n",
       "      <td>60</td>\n",
       "      <td>80</td>\n",
       "      <td>90</td>\n",
       "    </tr>\n",
       "    <tr>\n",
       "      <th>rahil</th>\n",
       "      <td>80</td>\n",
       "      <td>50</td>\n",
       "      <td>60</td>\n",
       "      <td>80</td>\n",
       "      <td>75</td>\n",
       "    </tr>\n",
       "  </tbody>\n",
       "</table>\n",
       "</div>"
      ],
      "text/plain": [
       "        maths  eng  ss  science  hindi\n",
       "rohan     100   80  75       60     80\n",
       "shrey      90   70  80       90     40\n",
       "kavish     80   70  60       80     90\n",
       "rahil      80   50  60       80     75"
      ]
     },
     "execution_count": 7,
     "metadata": {},
     "output_type": "execute_result"
    }
   ],
   "source": [
    "stu_data = [\n",
    "    [100,80,75,60,80],\n",
    "    [90,70,80,90,40],\n",
    "    [80,70,60,80,90],\n",
    "    [80,50,60,80,75]\n",
    "]\n",
    "name = [\"rohan\",\"shrey\",\"kavish\",\"rahil\"]\n",
    "\n",
    "pd.DataFrame(stu_data,columns=['maths','eng',\"ss\",\"science\",\"hindi\"],index = name )"
   ]
  },
  {
   "cell_type": "markdown",
   "id": "f9829f06-31dc-4807-8a7e-621855ffa71d",
   "metadata": {},
   "source": [
    "## Q3) Using NumPy, create a Pandas Data Frame with five rows and three columns"
   ]
  },
  {
   "cell_type": "code",
   "execution_count": 8,
   "id": "d0730eec-2bbb-42c4-99a0-c27d1a10cfca",
   "metadata": {},
   "outputs": [
    {
     "data": {
      "text/html": [
       "<div>\n",
       "<style scoped>\n",
       "    .dataframe tbody tr th:only-of-type {\n",
       "        vertical-align: middle;\n",
       "    }\n",
       "\n",
       "    .dataframe tbody tr th {\n",
       "        vertical-align: top;\n",
       "    }\n",
       "\n",
       "    .dataframe thead th {\n",
       "        text-align: right;\n",
       "    }\n",
       "</style>\n",
       "<table border=\"1\" class=\"dataframe\">\n",
       "  <thead>\n",
       "    <tr style=\"text-align: right;\">\n",
       "      <th></th>\n",
       "      <th>0</th>\n",
       "      <th>1</th>\n",
       "      <th>2</th>\n",
       "    </tr>\n",
       "  </thead>\n",
       "  <tbody>\n",
       "    <tr>\n",
       "      <th>0</th>\n",
       "      <td>1</td>\n",
       "      <td>2</td>\n",
       "      <td>3</td>\n",
       "    </tr>\n",
       "    <tr>\n",
       "      <th>1</th>\n",
       "      <td>4</td>\n",
       "      <td>5</td>\n",
       "      <td>6</td>\n",
       "    </tr>\n",
       "    <tr>\n",
       "      <th>2</th>\n",
       "      <td>7</td>\n",
       "      <td>8</td>\n",
       "      <td>9</td>\n",
       "    </tr>\n",
       "    <tr>\n",
       "      <th>3</th>\n",
       "      <td>10</td>\n",
       "      <td>11</td>\n",
       "      <td>12</td>\n",
       "    </tr>\n",
       "    <tr>\n",
       "      <th>4</th>\n",
       "      <td>13</td>\n",
       "      <td>14</td>\n",
       "      <td>15</td>\n",
       "    </tr>\n",
       "  </tbody>\n",
       "</table>\n",
       "</div>"
      ],
      "text/plain": [
       "    0   1   2\n",
       "0   1   2   3\n",
       "1   4   5   6\n",
       "2   7   8   9\n",
       "3  10  11  12\n",
       "4  13  14  15"
      ]
     },
     "execution_count": 8,
     "metadata": {},
     "output_type": "execute_result"
    }
   ],
   "source": [
    "np1 = np.arange(1,16).reshape(5,3)\n",
    "np1\n",
    "pdd = pd.DataFrame(np1)\n",
    "pdd"
   ]
  },
  {
   "cell_type": "markdown",
   "id": "d75adb72-f457-4cf1-8a32-6a5a1bc018d4",
   "metadata": {},
   "source": [
    "## Q4)For a Pandas Data Frame created from a NumPy array, what is the default behavior for the labels for the columns? For the rows?"
   ]
  },
  {
   "cell_type": "code",
   "execution_count": 9,
   "id": "6eb8c611-1eae-4f4e-8fd5-3ad2b66f9fe4",
   "metadata": {},
   "outputs": [
    {
     "data": {
      "text/html": [
       "<div>\n",
       "<style scoped>\n",
       "    .dataframe tbody tr th:only-of-type {\n",
       "        vertical-align: middle;\n",
       "    }\n",
       "\n",
       "    .dataframe tbody tr th {\n",
       "        vertical-align: top;\n",
       "    }\n",
       "\n",
       "    .dataframe thead th {\n",
       "        text-align: right;\n",
       "    }\n",
       "</style>\n",
       "<table border=\"1\" class=\"dataframe\">\n",
       "  <thead>\n",
       "    <tr style=\"text-align: right;\">\n",
       "      <th></th>\n",
       "      <th>maths</th>\n",
       "      <th>eng</th>\n",
       "      <th>ss</th>\n",
       "      <th>science</th>\n",
       "      <th>hindi</th>\n",
       "    </tr>\n",
       "  </thead>\n",
       "  <tbody>\n",
       "    <tr>\n",
       "      <th>rohan</th>\n",
       "      <td>100</td>\n",
       "      <td>80</td>\n",
       "      <td>75</td>\n",
       "      <td>60</td>\n",
       "      <td>80</td>\n",
       "    </tr>\n",
       "    <tr>\n",
       "      <th>shrey</th>\n",
       "      <td>90</td>\n",
       "      <td>70</td>\n",
       "      <td>80</td>\n",
       "      <td>90</td>\n",
       "      <td>40</td>\n",
       "    </tr>\n",
       "    <tr>\n",
       "      <th>kavish</th>\n",
       "      <td>80</td>\n",
       "      <td>70</td>\n",
       "      <td>60</td>\n",
       "      <td>80</td>\n",
       "      <td>90</td>\n",
       "    </tr>\n",
       "    <tr>\n",
       "      <th>rahil</th>\n",
       "      <td>80</td>\n",
       "      <td>50</td>\n",
       "      <td>60</td>\n",
       "      <td>80</td>\n",
       "      <td>75</td>\n",
       "    </tr>\n",
       "  </tbody>\n",
       "</table>\n",
       "</div>"
      ],
      "text/plain": [
       "        maths  eng  ss  science  hindi\n",
       "rohan     100   80  75       60     80\n",
       "shrey      90   70  80       90     40\n",
       "kavish     80   70  60       80     90\n",
       "rahil      80   50  60       80     75"
      ]
     },
     "execution_count": 9,
     "metadata": {},
     "output_type": "execute_result"
    }
   ],
   "source": [
    "student_data = [\n",
    "    [100,80,75,60,80],\n",
    "    [90,70,80,90,40],\n",
    "    [80,70,60,80,90],\n",
    "    [80,50,60,80,75]\n",
    "]\n",
    "name = [\"rohan\",\"shrey\",\"kavish\",\"rahil\"]\n",
    "\n",
    "pd.DataFrame(student_data,columns=['maths','eng',\"ss\",\"science\",\"hindi\"],index = name )"
   ]
  },
  {
   "cell_type": "markdown",
   "id": "ded22d95-db1a-49d7-8d87-38e3969c798c",
   "metadata": {},
   "source": [
    "## Q5)take csv file contains at least 10,000 rows and 12 columns which numerical and text values according to that continue following steps. \n"
   ]
  },
  {
   "cell_type": "code",
   "execution_count": 10,
   "id": "b78dfefe-8746-4df9-8529-bb4f56ed92d1",
   "metadata": {},
   "outputs": [
    {
     "data": {
      "text/html": [
       "<div>\n",
       "<style scoped>\n",
       "    .dataframe tbody tr th:only-of-type {\n",
       "        vertical-align: middle;\n",
       "    }\n",
       "\n",
       "    .dataframe tbody tr th {\n",
       "        vertical-align: top;\n",
       "    }\n",
       "\n",
       "    .dataframe thead th {\n",
       "        text-align: right;\n",
       "    }\n",
       "</style>\n",
       "<table border=\"1\" class=\"dataframe\">\n",
       "  <thead>\n",
       "    <tr style=\"text-align: right;\">\n",
       "      <th></th>\n",
       "      <th>Bank Name</th>\n",
       "      <th>City</th>\n",
       "      <th>ST</th>\n",
       "      <th>CERT</th>\n",
       "      <th>Acquiring Institution</th>\n",
       "      <th>Closing Date</th>\n",
       "      <th>Updated Date</th>\n",
       "    </tr>\n",
       "  </thead>\n",
       "  <tbody>\n",
       "    <tr>\n",
       "      <th>0</th>\n",
       "      <td>Fayette County Bank</td>\n",
       "      <td>Saint Elmo</td>\n",
       "      <td>IL</td>\n",
       "      <td>1802</td>\n",
       "      <td>United Fidelity Bank, fsb</td>\n",
       "      <td>26-May-17</td>\n",
       "      <td>26-Jul-17</td>\n",
       "    </tr>\n",
       "    <tr>\n",
       "      <th>1</th>\n",
       "      <td>Guaranty Bank, (d/b/a BestBank in Georgia &amp; Mi...</td>\n",
       "      <td>Milwaukee</td>\n",
       "      <td>WI</td>\n",
       "      <td>30003</td>\n",
       "      <td>First-Citizens Bank &amp; Trust Company</td>\n",
       "      <td>5-May-17</td>\n",
       "      <td>26-Jul-17</td>\n",
       "    </tr>\n",
       "    <tr>\n",
       "      <th>2</th>\n",
       "      <td>First NBC Bank</td>\n",
       "      <td>New Orleans</td>\n",
       "      <td>LA</td>\n",
       "      <td>58302</td>\n",
       "      <td>Whitney Bank</td>\n",
       "      <td>28-Apr-17</td>\n",
       "      <td>26-Jul-17</td>\n",
       "    </tr>\n",
       "    <tr>\n",
       "      <th>3</th>\n",
       "      <td>Proficio Bank</td>\n",
       "      <td>Cottonwood Heights</td>\n",
       "      <td>UT</td>\n",
       "      <td>35495</td>\n",
       "      <td>Cache Valley Bank</td>\n",
       "      <td>3-Mar-17</td>\n",
       "      <td>18-May-17</td>\n",
       "    </tr>\n",
       "    <tr>\n",
       "      <th>4</th>\n",
       "      <td>Seaway Bank and Trust Company</td>\n",
       "      <td>Chicago</td>\n",
       "      <td>IL</td>\n",
       "      <td>19328</td>\n",
       "      <td>State Bank of Texas</td>\n",
       "      <td>27-Jan-17</td>\n",
       "      <td>18-May-17</td>\n",
       "    </tr>\n",
       "  </tbody>\n",
       "</table>\n",
       "</div>"
      ],
      "text/plain": [
       "                                           Bank Name                City  ST  \\\n",
       "0                                Fayette County Bank          Saint Elmo  IL   \n",
       "1  Guaranty Bank, (d/b/a BestBank in Georgia & Mi...           Milwaukee  WI   \n",
       "2                                     First NBC Bank         New Orleans  LA   \n",
       "3                                      Proficio Bank  Cottonwood Heights  UT   \n",
       "4                      Seaway Bank and Trust Company             Chicago  IL   \n",
       "\n",
       "    CERT                Acquiring Institution Closing Date Updated Date  \n",
       "0   1802            United Fidelity Bank, fsb    26-May-17    26-Jul-17  \n",
       "1  30003  First-Citizens Bank & Trust Company     5-May-17    26-Jul-17  \n",
       "2  58302                         Whitney Bank    28-Apr-17    26-Jul-17  \n",
       "3  35495                    Cache Valley Bank     3-Mar-17    18-May-17  \n",
       "4  19328                  State Bank of Texas    27-Jan-17    18-May-17  "
      ]
     },
     "execution_count": 10,
     "metadata": {},
     "output_type": "execute_result"
    }
   ],
   "source": [
    "df = pd.read_csv(r\"E:\\topsnots\\banklist.csv\")\n",
    "df.head()"
   ]
  },
  {
   "cell_type": "markdown",
   "id": "9c430aed-bf30-4156-b7e2-b7d6ca5b64f3",
   "metadata": {},
   "source": [
    "## Q6) Write the code to show the number of rows and columns in data frame."
   ]
  },
  {
   "cell_type": "code",
   "execution_count": 11,
   "id": "f2affbca-19f9-45f4-ba8b-f1420e8ace3f",
   "metadata": {},
   "outputs": [
    {
     "data": {
      "text/plain": [
       "(553, 7)"
      ]
     },
     "execution_count": 11,
     "metadata": {},
     "output_type": "execute_result"
    }
   ],
   "source": [
    "df.shape"
   ]
  },
  {
   "cell_type": "markdown",
   "id": "2cc22b6e-82d9-471e-8d6e-6275a85e7ff0",
   "metadata": {},
   "source": [
    "## Q7)How might you show the first few rows of data frame?"
   ]
  },
  {
   "cell_type": "code",
   "execution_count": 12,
   "id": "4be6c2c5-73eb-4376-899b-653b9542a30d",
   "metadata": {},
   "outputs": [
    {
     "data": {
      "text/html": [
       "<div>\n",
       "<style scoped>\n",
       "    .dataframe tbody tr th:only-of-type {\n",
       "        vertical-align: middle;\n",
       "    }\n",
       "\n",
       "    .dataframe tbody tr th {\n",
       "        vertical-align: top;\n",
       "    }\n",
       "\n",
       "    .dataframe thead th {\n",
       "        text-align: right;\n",
       "    }\n",
       "</style>\n",
       "<table border=\"1\" class=\"dataframe\">\n",
       "  <thead>\n",
       "    <tr style=\"text-align: right;\">\n",
       "      <th></th>\n",
       "      <th>Bank Name</th>\n",
       "      <th>City</th>\n",
       "      <th>ST</th>\n",
       "      <th>CERT</th>\n",
       "      <th>Acquiring Institution</th>\n",
       "      <th>Closing Date</th>\n",
       "      <th>Updated Date</th>\n",
       "    </tr>\n",
       "  </thead>\n",
       "  <tbody>\n",
       "    <tr>\n",
       "      <th>0</th>\n",
       "      <td>Fayette County Bank</td>\n",
       "      <td>Saint Elmo</td>\n",
       "      <td>IL</td>\n",
       "      <td>1802</td>\n",
       "      <td>United Fidelity Bank, fsb</td>\n",
       "      <td>26-May-17</td>\n",
       "      <td>26-Jul-17</td>\n",
       "    </tr>\n",
       "    <tr>\n",
       "      <th>1</th>\n",
       "      <td>Guaranty Bank, (d/b/a BestBank in Georgia &amp; Mi...</td>\n",
       "      <td>Milwaukee</td>\n",
       "      <td>WI</td>\n",
       "      <td>30003</td>\n",
       "      <td>First-Citizens Bank &amp; Trust Company</td>\n",
       "      <td>5-May-17</td>\n",
       "      <td>26-Jul-17</td>\n",
       "    </tr>\n",
       "    <tr>\n",
       "      <th>2</th>\n",
       "      <td>First NBC Bank</td>\n",
       "      <td>New Orleans</td>\n",
       "      <td>LA</td>\n",
       "      <td>58302</td>\n",
       "      <td>Whitney Bank</td>\n",
       "      <td>28-Apr-17</td>\n",
       "      <td>26-Jul-17</td>\n",
       "    </tr>\n",
       "    <tr>\n",
       "      <th>3</th>\n",
       "      <td>Proficio Bank</td>\n",
       "      <td>Cottonwood Heights</td>\n",
       "      <td>UT</td>\n",
       "      <td>35495</td>\n",
       "      <td>Cache Valley Bank</td>\n",
       "      <td>3-Mar-17</td>\n",
       "      <td>18-May-17</td>\n",
       "    </tr>\n",
       "    <tr>\n",
       "      <th>4</th>\n",
       "      <td>Seaway Bank and Trust Company</td>\n",
       "      <td>Chicago</td>\n",
       "      <td>IL</td>\n",
       "      <td>19328</td>\n",
       "      <td>State Bank of Texas</td>\n",
       "      <td>27-Jan-17</td>\n",
       "      <td>18-May-17</td>\n",
       "    </tr>\n",
       "  </tbody>\n",
       "</table>\n",
       "</div>"
      ],
      "text/plain": [
       "                                           Bank Name                City  ST  \\\n",
       "0                                Fayette County Bank          Saint Elmo  IL   \n",
       "1  Guaranty Bank, (d/b/a BestBank in Georgia & Mi...           Milwaukee  WI   \n",
       "2                                     First NBC Bank         New Orleans  LA   \n",
       "3                                      Proficio Bank  Cottonwood Heights  UT   \n",
       "4                      Seaway Bank and Trust Company             Chicago  IL   \n",
       "\n",
       "    CERT                Acquiring Institution Closing Date Updated Date  \n",
       "0   1802            United Fidelity Bank, fsb    26-May-17    26-Jul-17  \n",
       "1  30003  First-Citizens Bank & Trust Company     5-May-17    26-Jul-17  \n",
       "2  58302                         Whitney Bank    28-Apr-17    26-Jul-17  \n",
       "3  35495                    Cache Valley Bank     3-Mar-17    18-May-17  \n",
       "4  19328                  State Bank of Texas    27-Jan-17    18-May-17  "
      ]
     },
     "execution_count": 12,
     "metadata": {},
     "output_type": "execute_result"
    }
   ],
   "source": [
    "df.head()"
   ]
  },
  {
   "cell_type": "markdown",
   "id": "3ee19bd7-643e-43b2-a8d8-f39a929bd0df",
   "metadata": {},
   "source": [
    "## Q8) If you select a single column from the diamonds Data Frame, what will be the type of the return value? "
   ]
  },
  {
   "cell_type": "code",
   "execution_count": 15,
   "id": "44c950c1-cbe6-485a-a0c9-349698bd79ae",
   "metadata": {},
   "outputs": [
    {
     "name": "stdout",
     "output_type": "stream",
     "text": [
      "<class 'pandas.core.series.Series'>\n"
     ]
    }
   ],
   "source": [
    "c = df[\"City\"]\n",
    "print(type(c))"
   ]
  },
  {
   "cell_type": "markdown",
   "id": "ee56d147-b639-419c-9183-064c86315de1",
   "metadata": {},
   "source": [
    "## Q9) Create a line plot using the x and y values provided below. Label the y-axis as “Y” and label the x-axis as “X”.\n",
    "## x = [3, 4, 5, 6]\n",
    "## y = [1.5, 2, 2.5, 3] "
   ]
  },
  {
   "cell_type": "code",
   "execution_count": 16,
   "id": "0e7b6470-7aaa-4b6e-830f-0607fa2d9e43",
   "metadata": {},
   "outputs": [
    {
     "data": {
      "text/plain": [
       "[<matplotlib.lines.Line2D at 0x1c37798cf20>]"
      ]
     },
     "execution_count": 16,
     "metadata": {},
     "output_type": "execute_result"
    },
    {
     "data": {
      "image/png": "[encoded data removed]",
      "text/plain": [
       "<Figure size 640x480 with 1 Axes>"
      ]
     },
     "metadata": {},
     "output_type": "display_data"
    }
   ],
   "source": [
    "x = [3, 4, 5, 6]\n",
    "y = [1.5, 2, 2.5, 3]\n",
    "plt.plot(x,y)"
   ]
  },
  {
   "cell_type": "markdown",
   "id": "3b47b5cc-a161-4d6a-a246-c74a5570834a",
   "metadata": {},
   "source": [
    "## Q10)Create an array of numbers between 0 and 6 with increments of 0.3 and name its “x”.Then on the same plot, plot x, x², x³, and x⁴. For consistency, use the following style lines respectively, “ro”, “bs”, “g”, and “:”. Lastly, make sure that the x-axis covers 0 to 6, while the y-axis spans from 0 to 125. Do not worry if you are not familiar with the style lines — you will recognize them as soon as you see the plot. \n"
   ]
  },
  {
   "cell_type": "code",
   "execution_count": 17,
   "id": "10a39097-057a-4552-ac38-8f40fdfe4ae1",
   "metadata": {},
   "outputs": [
    {
     "data": {
      "image/png": "[encoded data removed]",
      "text/plain": [
       "<Figure size 640x480 with 1 Axes>"
      ]
     },
     "metadata": {},
     "output_type": "display_data"
    }
   ],
   "source": [
    "x = np.arange(0, 6.3, 0.3)\n",
    "\n",
    "y1 = x\n",
    "\n",
    "y2 = x**2\n",
    "\n",
    "y3 = x**3\n",
    "\n",
    "y4 = x**4\n",
    "\n",
    "plt.plot(x, y1, 'ro', label='x')   # Red circles\n",
    "plt.plot(x, y2, 'bs', label='x^2')  # Blue squares\n",
    "plt.plot(x, y3, 'g', label='x^3')   # Green line\n",
    "plt.plot(x, y4, ':', label='x^4')   # Dotted line\n",
    "\n",
    "plt.xlim(0, 6)\n",
    "plt.ylim(0, 125)\n",
    "\n",
    "plt.title(\"Powers of x\")\n",
    "plt.legend()\n",
    "\n",
    "plt.show()"
   ]
  },
  {
   "cell_type": "markdown",
   "id": "01273378-c0ea-4a30-bd45-5584714fcb58",
   "metadata": {},
   "source": [
    "## Q11)Heights and initials of a group of individuals are provided below. Create a bar plot titled “Height Comparison” to compare the heights among this group.\n",
    "## height = [179, 155, 191, 152, 188, 177]\n",
    "## names = ['QA', 'WB', 'EC', 'RD', 'TE', 'YF'] \n"
   ]
  },
  {
   "cell_type": "code",
   "execution_count": 29,
   "id": "78206fc1-5859-4229-b95b-12526d19dcb2",
   "metadata": {},
   "outputs": [
    {
     "data": {
      "text/plain": [
       "<Axes: >"
      ]
     },
     "execution_count": 29,
     "metadata": {},
     "output_type": "execute_result"
    },
    {
     "data": {
      "image/png": "[encoded data removed]",
      "text/plain": [
       "<Figure size 640x480 with 1 Axes>"
      ]
     },
     "metadata": {},
     "output_type": "display_data"
    }
   ],
   "source": [
    "height = [179, 155, 191, 152, 188, 177]\n",
    "names = ['QA', 'WB', 'EC', 'RD', 'TE', 'YF']\n",
    "sns.barplot(x = names, y = height, hue=names, palette=[\"red\", \"blue\", \"green\", \"purple\", \"orange\", \"cyan\"], legend=False)"
   ]
  },
  {
   "cell_type": "code",
   "execution_count": 30,
   "id": "f1ea2db2-d4eb-4c9c-a8c2-f6273b036672",
   "metadata": {},
   "outputs": [
    {
     "data": {
      "text/plain": [
       "<BarContainer object of 6 artists>"
      ]
     },
     "execution_count": 30,
     "metadata": {},
     "output_type": "execute_result"
    },
    {
     "data": {
      "image/png": "[encoded data removed]",
      "text/plain": [
       "<Figure size 640x480 with 1 Axes>"
      ]
     },
     "metadata": {},
     "output_type": "display_data"
    }
   ],
   "source": [
    "plt.bar(names,height)"
   ]
  },
  {
   "cell_type": "code",
   "execution_count": 41,
   "id": "f7c145ea-d8ba-4707-a493-bc794eb16d53",
   "metadata": {},
   "outputs": [],
   "source": [
    "from plotly import __version__\n",
    "from plotly.offline import download_plotlyjs,init_notebook_mode,plot,iplot"
   ]
  },
  {
   "cell_type": "code",
   "execution_count": null,
   "id": "595072d8-9bec-42d1-941c-dbc4cbd340f0",
   "metadata": {},
   "outputs": [],
   "source": [
    "import cufflinks as cf\n",
    "cf.go_offline()"
   ]
  },
  {
   "cell_type": "code",
   "execution_count": 39,
   "id": "0181fc70-6d1a-45e6-8441-a8f24282f378",
   "metadata": {},
   "outputs": [
    {
     "data": {
      "text/html": [
       "<div>\n",
       "<style scoped>\n",
       "    .dataframe tbody tr th:only-of-type {\n",
       "        vertical-align: middle;\n",
       "    }\n",
       "\n",
       "    .dataframe tbody tr th {\n",
       "        vertical-align: top;\n",
       "    }\n",
       "\n",
       "    .dataframe thead th {\n",
       "        text-align: right;\n",
       "    }\n",
       "</style>\n",
       "<table border=\"1\" class=\"dataframe\">\n",
       "  <thead>\n",
       "    <tr style=\"text-align: right;\">\n",
       "      <th></th>\n",
       "      <th>names</th>\n",
       "      <th>height</th>\n",
       "    </tr>\n",
       "  </thead>\n",
       "  <tbody>\n",
       "    <tr>\n",
       "      <th>0</th>\n",
       "      <td>QA</td>\n",
       "      <td>179</td>\n",
       "    </tr>\n",
       "    <tr>\n",
       "      <th>1</th>\n",
       "      <td>WB</td>\n",
       "      <td>155</td>\n",
       "    </tr>\n",
       "    <tr>\n",
       "      <th>2</th>\n",
       "      <td>EC</td>\n",
       "      <td>191</td>\n",
       "    </tr>\n",
       "    <tr>\n",
       "      <th>3</th>\n",
       "      <td>RD</td>\n",
       "      <td>152</td>\n",
       "    </tr>\n",
       "    <tr>\n",
       "      <th>4</th>\n",
       "      <td>TE</td>\n",
       "      <td>188</td>\n",
       "    </tr>\n",
       "    <tr>\n",
       "      <th>5</th>\n",
       "      <td>YF</td>\n",
       "      <td>177</td>\n",
       "    </tr>\n",
       "  </tbody>\n",
       "</table>\n",
       "</div>"
      ],
      "text/plain": [
       "  names  height\n",
       "0    QA     179\n",
       "1    WB     155\n",
       "2    EC     191\n",
       "3    RD     152\n",
       "4    TE     188\n",
       "5    YF     177"
      ]
     },
     "execution_count": 39,
     "metadata": {},
     "output_type": "execute_result"
    }
   ],
   "source": [
    "j = pd.DataFrame({\"names\":names,\"height\":height})\n",
    "j"
   ]
  },
  {
   "cell_type": "code",
   "execution_count": null,
   "id": "b7a3de44-25d8-4f78-9787-da4270aa3e6b",
   "metadata": {},
   "outputs": [],
   "source": [
    "j.iplot(kind = \"bar\",x = \"names\",y = \"height\")"
   ]
  },
  {
   "cell_type": "markdown",
   "id": "30db7f60-43b7-4445-9f8d-e40c30300d33",
   "metadata": {},
   "source": [
    "## Q12)Plot a histogram of x, where x consists of 100,000 randomly-selected points with a normal distribution (hint: you can use numpy.random.randn() to generate the random points). The histogram should have 10 bins. Look at how the histogram changes when we try 20 and 50 bins. \n"
   ]
  },
  {
   "cell_type": "code",
   "execution_count": 43,
   "id": "54ec0130-f222-44bd-ad07-439c6cc97834",
   "metadata": {},
   "outputs": [
    {
     "data": {
      "image/png": "[encoded data removed]",
      "text/plain": [
       "<Figure size 1500x500 with 3 Axes>"
      ]
     },
     "metadata": {},
     "output_type": "display_data"
    }
   ],
   "source": [
    "x = np.random.randn(100000)\n",
    "\n",
    "fig, axes = plt.subplots(1, 3, figsize=(15, 5))\n",
    "\n",
    "axes[0].hist(x, bins=10, color='red', edgecolor='black')\n",
    "\n",
    "axes[1].hist(x, bins=20, color='green', edgecolor='black')\n",
    "axes[1].set_title(\"Histogram with 20 bins\")\n",
    "\n",
    "axes[2].hist(x, bins=50, color='blue', edgecolor='black')\n",
    "axes[2].set_title(\"Histogram with 50 bins\")\n",
    "\n",
    "plt.tight_layout()\n",
    "plt.show()\n"
   ]
  },
  {
   "cell_type": "markdown",
   "id": "dc38c133-c7f0-42f8-b30d-dfc1547e070a",
   "metadata": {},
   "source": [
    "## Q13)What are the features of TensorFlow? "
   ]
  },
  {
   "cell_type": "markdown",
   "id": "9fbe3c8e-6612-40f5-ba1e-e6d5f1bb528f",
   "metadata": {},
   "source": [
    "Features of TensorFlow Models can be developed easily: TensorFlow supports high-level APIs, through which Machine Learning models can be built easily using Neural Networks. Complex Numeric Computations can be done: As the input dataset is huge, the mathematical computations/calculations can be done easily. Consists of Machine Learning APIs: TensorFlow is rich in Machine Learning APIs that are of both low-level and high-level. Stable APIs are available in Python and C. Presently, working on APIs for Java, JavaScript, Julia, Matlab, R, etc. Easy deployment and computation using CPU, GPU: TensorFlow supports training and building models on CPU and GPU. Computations can be done on both CPU and GPU and can be compared too. Contains pre-trained models and datasets: Google has included many datasets and pre-trained models in TensorFlow. Datasets include mnist, vgg_face2, ImageNet, coco etc. Pre-trained models for mobiles, embedded devices, and production: The Machine Learning models can be deployed on mobile and embedded devices using TensorFlow. Pre-trained models can be directly used for production. Tensorboard, a kit using TensorFlow’s visualization toolkit made ML easy through model graphs: Tensorboard is TensorFlow’s visualization toolkit used to display images, graphs, etc. Supporting Keras: Keras is a high-level API of TensorFlow that is built on top of TensorFlow and Theano. Nowadays, Keras has become popular as a widely used TensorFlow API. Open Source: TensorFlow is an open-source platform, free to use and allows developers and researchers to build and deploy Machine Learning models."
   ]
  },
  {
   "cell_type": "markdown",
   "id": "6970f368-e67b-4f3d-8098-782823c5fb80",
   "metadata": {},
   "source": [
    "## Q14)List a few limitations of TensorFlow"
   ]
  },
  {
   "cell_type": "markdown",
   "id": "000fdcf6-56c3-44e2-aecf-f3a6a5b97cf4",
   "metadata": {},
   "source": [
    "1.No windows support Besides all the advantages possessed by Tensorflow, it has a very limited set of features for Windows users. For Linux users this isn’t the case there is a wide arcade of features when it comes to them.\n",
    "\n",
    "2.Slow It is comparatively slower and less usable compared to its competing frameworks.\n",
    "\n",
    "3.GPU support Tensorflow has only NVIDIA support for GPU and Python programming language support for GPU programming.\n",
    "\n",
    "4.Frequent updates Tensorflow undergoes frequent updates making it overhead for a user to time to time uninstall and reinstall it so that it can bind and be blended with its latest updates.\n",
    "\n",
    "5.Architectural limitation Tensorflow’s TPU architecture allows only execution of models and doesn’t allow its training.\n",
    "\n",
    "6.Inconsistent Tensorflow contains homonyms as names of its contents which makes it difficult for a user to remember and use. A single name is used for various different purposes and this is where the confusion starts.\n",
    "\n",
    "7.Dependency Even though TensorFlow reduces the size of the program and makes it user-friendly, it adds a layer of complexity to it. Every code needs some platform for its execution which increases dependency.\n",
    "\n",
    "8.Symbolic loops Tensorflow lags at providing symbolic loops for indefinite sequences. Its support for definite sequences makes it a useful resource."
   ]
  },
  {
   "cell_type": "markdown",
   "id": "31aa34de-aeb3-4adf-892b-85f4b7b147e3",
   "metadata": {},
   "source": [
    "## Q15)What do you know about supervised and unsupervised machine learning?"
   ]
  },
  {
   "cell_type": "markdown",
   "id": "ccddb646-54f2-4832-9172-73853d849a47",
   "metadata": {},
   "source": [
    "In machine learning, \"supervised learning\" refers to training a model using labeled data, where the desired output for each input is already known, allowing the algorithm to learn the relationship between input and output and make predictions on new data; while \"unsupervised learning\" involves training a model on unlabeled data, where the algorithm must discover patterns and structures within the data without any predefined labels, making it suitable for tasks like clustering or anomaly detection."
   ]
  },
  {
   "cell_type": "code",
   "execution_count": null,
   "id": "7722ce01-bed1-469c-8a1b-e5e1968efecb",
   "metadata": {},
   "outputs": [],
   "source": []
  }
 ],
 "metadata": {
  "kernelspec": {
   "display_name": "Python 3 (ipykernel)",
   "language": "python",
   "name": "python3"
  },
  "language_info": {
   "codemirror_mode": {
    "name": "ipython",
    "version": 3
   },
   "file_extension": ".py",
   "mimetype": "text/x-python",
   "name": "python",
   "nbconvert_exporter": "python",
   "pygments_lexer": "ipython3",
   "version": "3.12.7"
  }
 },
 "nbformat": 4,
 "nbformat_minor": 5
}
